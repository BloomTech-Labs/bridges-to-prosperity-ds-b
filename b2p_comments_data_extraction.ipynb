{
 "cells": [
  {
   "cell_type": "markdown",
   "metadata": {},
   "source": [
    "# Overview\n",
    "This dataset comes from Bridges to Prosperity, an NGO\n",
    "\n",
    "This notebook is used to extract specific columns from a paragraph of data in the `Comments` column of our dataset. The delimiters, casing, and wording sometimes varies between and within columns, so we used regular expressions for their versatility."
   ]
  },
  {
   "cell_type": "markdown",
   "metadata": {},
   "source": [
    "## Imports and reading in dataset"
   ]
  },
  {
   "cell_type": "code",
   "execution_count": 1,
   "metadata": {},
   "outputs": [],
   "source": [
    "import re\n",
    "import pandas as pd"
   ]
  },
  {
   "cell_type": "code",
   "execution_count": 2,
   "metadata": {
    "scrolled": true
   },
   "outputs": [
    {
     "name": "stdout",
     "output_type": "stream",
     "text": [
      "<class 'pandas.core.frame.DataFrame'>\n",
      "RangeIndex: 1472 entries, 0 to 1471\n",
      "Data columns (total 43 columns):\n",
      " #   Column                                           Non-Null Count  Dtype  \n",
      "---  ------                                           --------------  -----  \n",
      " 0   Bridge Name                                      1472 non-null   object \n",
      " 1   Bridge Opportunity: Project Code                 1472 non-null   object \n",
      " 2   Bridge Opportunity: Needs Assessment             1432 non-null   object \n",
      " 3   Bridge Opportunity: Level 1 Government           1472 non-null   object \n",
      " 4   Bridge Opportunity: Level 2 Government           1472 non-null   object \n",
      " 5   Bridge Opportunity: Stage                        1472 non-null   object \n",
      " 6   Bridge Opportunity: GPS (Latitude)               1460 non-null   float64\n",
      " 7   Bridge Opportunity: GPS (Longitude)              1460 non-null   float64\n",
      " 8   Bridge Opportunity: Bridge Type                  185 non-null    object \n",
      " 9   Bridge Opportunity: Span (m)                     390 non-null    float64\n",
      " 10  Bridge Opportunity: Individuals Directly Served  1466 non-null   float64\n",
      " 11  Bridge Opportunity: Comments                     394 non-null    object \n",
      " 12  Form: Form Name                                  1472 non-null   object \n",
      " 13  Form: Created By                                 1472 non-null   object \n",
      " 14  Proposed Bridge Location (GPS) (Latitude)        1432 non-null   float64\n",
      " 15  Proposed Bridge Location (GPS) (Longitude)       1432 non-null   float64\n",
      " 16  Current crossing method                          1312 non-null   object \n",
      " 17  Nearest all-weather crossing point               1288 non-null   object \n",
      " 18  Days per year river is flooded                   1309 non-null   float64\n",
      " 19  Flood duration during rainy season               1294 non-null   object \n",
      " 20  Market access blocked by river                   1261 non-null   object \n",
      " 21  Education access blocked by river                1238 non-null   object \n",
      " 22  Health access blocked by river                   1237 non-null   object \n",
      " 23  Other access blocked by river                    1146 non-null   object \n",
      " 24  Primary occupations                              1260 non-null   object \n",
      " 25  Primary crops grown                              1255 non-null   object \n",
      " 26  River crossing deaths in last 3 years            1300 non-null   float64\n",
      " 27  River crossing injuries in last 3 years          1305 non-null   float64\n",
      " 28  Incident descriptions                            1107 non-null   object \n",
      " 29  Notes on social information                      1231 non-null   object \n",
      " 30  Cell service quality                             1292 non-null   object \n",
      " 31  4WD Accessibility                                1323 non-null   object \n",
      " 32  Name of nearest city                             1458 non-null   object \n",
      " 33  Name of nearest paved or sealed road             1307 non-null   object \n",
      " 34  Bridge classification                            1295 non-null   object \n",
      " 35  Flag for Rejection                               1272 non-null   object \n",
      " 36  Rejection Reason                                 251 non-null    object \n",
      " 37  Bridge Type                                      1302 non-null   object \n",
      " 38  Estimated span (m)                               1289 non-null   float64\n",
      " 39  Height differential between banks                507 non-null    float64\n",
      " 40  Bridge Opportunity: General Project Photos       46 non-null     object \n",
      " 41  Bridge Opportunity: CaseSafeID                   1472 non-null   object \n",
      " 42  Senior Engineering Review Conducted              89 non-null     object \n",
      "dtypes: float64(11), object(32)\n",
      "memory usage: 494.6+ KB\n"
     ]
    }
   ],
   "source": [
    "bridges_df = pd.read_excel('B2P Dataset_2020.10.xlsx')\n",
    "bridges_df.info()"
   ]
  },
  {
   "cell_type": "code",
   "execution_count": 3,
   "metadata": {},
   "outputs": [
    {
     "data": {
      "text/html": [
       "<div>\n",
       "<style scoped>\n",
       "    .dataframe tbody tr th:only-of-type {\n",
       "        vertical-align: middle;\n",
       "    }\n",
       "\n",
       "    .dataframe tbody tr th {\n",
       "        vertical-align: top;\n",
       "    }\n",
       "\n",
       "    .dataframe thead th {\n",
       "        text-align: right;\n",
       "    }\n",
       "</style>\n",
       "<table border=\"1\" class=\"dataframe\">\n",
       "  <thead>\n",
       "    <tr style=\"text-align: right;\">\n",
       "      <th></th>\n",
       "      <th>Bridge Name</th>\n",
       "      <th>Bridge Opportunity: Project Code</th>\n",
       "      <th>Bridge Opportunity: Needs Assessment</th>\n",
       "      <th>Bridge Opportunity: Level 1 Government</th>\n",
       "      <th>Bridge Opportunity: Level 2 Government</th>\n",
       "      <th>Bridge Opportunity: Stage</th>\n",
       "      <th>Bridge Opportunity: GPS (Latitude)</th>\n",
       "      <th>Bridge Opportunity: GPS (Longitude)</th>\n",
       "      <th>Bridge Opportunity: Bridge Type</th>\n",
       "      <th>Bridge Opportunity: Span (m)</th>\n",
       "      <th>Bridge Opportunity: Individuals Directly Served</th>\n",
       "      <th>Bridge Opportunity: Comments</th>\n",
       "      <th>Form: Form Name</th>\n",
       "      <th>Form: Created By</th>\n",
       "      <th>Proposed Bridge Location (GPS) (Latitude)</th>\n",
       "      <th>Proposed Bridge Location (GPS) (Longitude)</th>\n",
       "      <th>Current crossing method</th>\n",
       "      <th>Nearest all-weather crossing point</th>\n",
       "      <th>Days per year river is flooded</th>\n",
       "      <th>Flood duration during rainy season</th>\n",
       "      <th>Market access blocked by river</th>\n",
       "      <th>Education access blocked by river</th>\n",
       "      <th>Health access blocked by river</th>\n",
       "      <th>Other access blocked by river</th>\n",
       "      <th>Primary occupations</th>\n",
       "      <th>Primary crops grown</th>\n",
       "      <th>River crossing deaths in last 3 years</th>\n",
       "      <th>River crossing injuries in last 3 years</th>\n",
       "      <th>Incident descriptions</th>\n",
       "      <th>Notes on social information</th>\n",
       "      <th>Cell service quality</th>\n",
       "      <th>4WD Accessibility</th>\n",
       "      <th>Name of nearest city</th>\n",
       "      <th>Name of nearest paved or sealed road</th>\n",
       "      <th>Bridge classification</th>\n",
       "      <th>Flag for Rejection</th>\n",
       "      <th>Rejection Reason</th>\n",
       "      <th>Bridge Type</th>\n",
       "      <th>Estimated span (m)</th>\n",
       "      <th>Height differential between banks</th>\n",
       "      <th>Bridge Opportunity: General Project Photos</th>\n",
       "      <th>Bridge Opportunity: CaseSafeID</th>\n",
       "      <th>Senior Engineering Review Conducted</th>\n",
       "    </tr>\n",
       "  </thead>\n",
       "  <tbody>\n",
       "    <tr>\n",
       "      <th>0</th>\n",
       "      <td>Bukinga</td>\n",
       "      <td>1009317</td>\n",
       "      <td>Rwanda Needs Assessment 2018</td>\n",
       "      <td>Southern Province</td>\n",
       "      <td>Nyaruguru</td>\n",
       "      <td>Cancelled</td>\n",
       "      <td>-2.760833</td>\n",
       "      <td>29.488056</td>\n",
       "      <td>Suspended Bridge</td>\n",
       "      <td>NaN</td>\n",
       "      <td>NaN</td>\n",
       "      <td>Steep slopes to deal with for anchors</td>\n",
       "      <td>Project Assessment - 2018.10.10</td>\n",
       "      <td>aimablengirabakunzi taroworks</td>\n",
       "      <td>-2.760833</td>\n",
       "      <td>29.488056</td>\n",
       "      <td>NaN</td>\n",
       "      <td>NaN</td>\n",
       "      <td>NaN</td>\n",
       "      <td>NaN</td>\n",
       "      <td>NaN</td>\n",
       "      <td>NaN</td>\n",
       "      <td>NaN</td>\n",
       "      <td>NaN</td>\n",
       "      <td>NaN</td>\n",
       "      <td>NaN</td>\n",
       "      <td>NaN</td>\n",
       "      <td>NaN</td>\n",
       "      <td>NaN</td>\n",
       "      <td>NaN</td>\n",
       "      <td>NaN</td>\n",
       "      <td>NaN</td>\n",
       "      <td>Huye</td>\n",
       "      <td>NaN</td>\n",
       "      <td>NaN</td>\n",
       "      <td>Yes</td>\n",
       "      <td>There is a planned vehicular road with a vehic...</td>\n",
       "      <td>NaN</td>\n",
       "      <td>NaN</td>\n",
       "      <td>NaN</td>\n",
       "      <td>NaN</td>\n",
       "      <td>006f100000asFErAAM</td>\n",
       "      <td>Yes</td>\n",
       "    </tr>\n",
       "    <tr>\n",
       "      <th>1</th>\n",
       "      <td>Kagarama</td>\n",
       "      <td>1007325</td>\n",
       "      <td>NaN</td>\n",
       "      <td>Western Province</td>\n",
       "      <td>Nyamasheke</td>\n",
       "      <td>Complete</td>\n",
       "      <td>-2.322534</td>\n",
       "      <td>29.141944</td>\n",
       "      <td>Suspension Bridge</td>\n",
       "      <td>48.0</td>\n",
       "      <td>4000.0</td>\n",
       "      <td>NaN</td>\n",
       "      <td>Project Assessment - 2017.7.12</td>\n",
       "      <td>Stephanie May</td>\n",
       "      <td>-2.322534</td>\n",
       "      <td>29.141944</td>\n",
       "      <td>timber bridge</td>\n",
       "      <td>2km downstream</td>\n",
       "      <td>120.0</td>\n",
       "      <td>12hours</td>\n",
       "      <td>Schools, hospital, markets and government serv...</td>\n",
       "      <td>NaN</td>\n",
       "      <td>NaN</td>\n",
       "      <td>NaN</td>\n",
       "      <td>farming</td>\n",
       "      <td>banana</td>\n",
       "      <td>2.0</td>\n",
       "      <td>15.0</td>\n",
       "      <td>the injuries and deaths are caused by trying f...</td>\n",
       "      <td>Most of the facilities locate at the left side...</td>\n",
       "      <td>Fair</td>\n",
       "      <td>Seasonally</td>\n",
       "      <td>Kibogora-Kabuga</td>\n",
       "      <td>Karongi-Nyamasheke</td>\n",
       "      <td>NaN</td>\n",
       "      <td>NaN</td>\n",
       "      <td>NaN</td>\n",
       "      <td>NaN</td>\n",
       "      <td>10.0</td>\n",
       "      <td>0.7</td>\n",
       "      <td>https://flic.kr/s/aHskvedfPB</td>\n",
       "      <td>006f100000a82QzAAI</td>\n",
       "      <td>Yes</td>\n",
       "    </tr>\n",
       "    <tr>\n",
       "      <th>2</th>\n",
       "      <td>Karambi</td>\n",
       "      <td>1007374</td>\n",
       "      <td>NaN</td>\n",
       "      <td>Southern Province</td>\n",
       "      <td>Huye</td>\n",
       "      <td>Complete</td>\n",
       "      <td>-2.513333</td>\n",
       "      <td>29.612778</td>\n",
       "      <td>Suspension Bridge</td>\n",
       "      <td>50.0</td>\n",
       "      <td>12500.0</td>\n",
       "      <td>Likely piloting steel decking on this bridge. ...</td>\n",
       "      <td>Project Assessment - 2018.7.27</td>\n",
       "      <td>etiennemutebutsi taroworks</td>\n",
       "      <td>NaN</td>\n",
       "      <td>NaN</td>\n",
       "      <td>Timber bridge</td>\n",
       "      <td>Is located at 5km upstream. People pay 1000rwf...</td>\n",
       "      <td>60.0</td>\n",
       "      <td>1day</td>\n",
       "      <td>Markets,farms blocked by this river both sides</td>\n",
       "      <td>Education blocked by this river both sides</td>\n",
       "      <td>Health services blocked by this river both sides</td>\n",
       "      <td>Potable water, places of worship ,places for r...</td>\n",
       "      <td>Farming and small business</td>\n",
       "      <td>Corns, banana and beans</td>\n",
       "      <td>3.0</td>\n",
       "      <td>15.0</td>\n",
       "      <td>Peoples dead when coming from the church, heal...</td>\n",
       "      <td>5 cells (kabuye,gasumba,kanyinya, buremera and...</td>\n",
       "      <td>Good</td>\n",
       "      <td>Never</td>\n",
       "      <td>Nyamagabe</td>\n",
       "      <td>Huye-Nyamagabe</td>\n",
       "      <td>Standard</td>\n",
       "      <td>NaN</td>\n",
       "      <td>NaN</td>\n",
       "      <td>Suspension</td>\n",
       "      <td>45.0</td>\n",
       "      <td>1.0</td>\n",
       "      <td>https://flic.kr/s/aHskbMF1Kr</td>\n",
       "      <td>006f100000a86DaAAI</td>\n",
       "      <td>Yes</td>\n",
       "    </tr>\n",
       "    <tr>\n",
       "      <th>3</th>\n",
       "      <td>Rugeti</td>\n",
       "      <td>1007466</td>\n",
       "      <td>Rwanda Needs Assessment 2018</td>\n",
       "      <td>Southern Province</td>\n",
       "      <td>Nyamagabe</td>\n",
       "      <td>Complete</td>\n",
       "      <td>-2.476407</td>\n",
       "      <td>29.420800</td>\n",
       "      <td>Suspension Bridge</td>\n",
       "      <td>68.0</td>\n",
       "      <td>4363.0</td>\n",
       "      <td>3000-6000 people directly served, Elevation:21...</td>\n",
       "      <td>Project Assessment - 2018.9.1</td>\n",
       "      <td>aimablengirabakunzi taroworks</td>\n",
       "      <td>-2.476407</td>\n",
       "      <td>29.420800</td>\n",
       "      <td>Timber</td>\n",
       "      <td>None</td>\n",
       "      <td>60.0</td>\n",
       "      <td>All time in April and May and it is rarely to ...</td>\n",
       "      <td>Markets</td>\n",
       "      <td>Primary and Secondary schools</td>\n",
       "      <td>Health Center</td>\n",
       "      <td>Churches and Government offices</td>\n",
       "      <td>Farming of large tea plantation, wheat farms</td>\n",
       "      <td>Tea, cow pea, wheat, beans, sweet potatoes</td>\n",
       "      <td>0.0</td>\n",
       "      <td>2.0</td>\n",
       "      <td>They slipped on trees and fall down in the river</td>\n",
       "      <td>Market 1( Minaga, Gishwati, Mujerenge, Gikungu...</td>\n",
       "      <td>Fair</td>\n",
       "      <td>Seasonally</td>\n",
       "      <td>Huye</td>\n",
       "      <td>Nyamagabe-Rusizi</td>\n",
       "      <td>Standard</td>\n",
       "      <td>No</td>\n",
       "      <td>NaN</td>\n",
       "      <td>Suspended</td>\n",
       "      <td>47.4</td>\n",
       "      <td>1.1</td>\n",
       "      <td>https://www.flickr.com/photos/bridgestoprosper...</td>\n",
       "      <td>006f100000a86F4AAI</td>\n",
       "      <td>Yes</td>\n",
       "    </tr>\n",
       "    <tr>\n",
       "      <th>4</th>\n",
       "      <td>Nyakabuye - Nkomane</td>\n",
       "      <td>1007495</td>\n",
       "      <td>Rwanda Needs Assessment 2018</td>\n",
       "      <td>Southern Province</td>\n",
       "      <td>Nyamagabe</td>\n",
       "      <td>Complete</td>\n",
       "      <td>-2.233022</td>\n",
       "      <td>29.575130</td>\n",
       "      <td>Suspension Bridge</td>\n",
       "      <td>78.0</td>\n",
       "      <td>2790.0</td>\n",
       "      <td>Not Duplicate 500-1000 people directly served,...</td>\n",
       "      <td>Project Assessment - 2018.9.4</td>\n",
       "      <td>dominiquehabimana taroworks</td>\n",
       "      <td>-2.233574</td>\n",
       "      <td>29.575366</td>\n",
       "      <td>Timber bridge</td>\n",
       "      <td>Vehicular bridge, 5 kilometers</td>\n",
       "      <td>35.0</td>\n",
       "      <td>April To May, September to December, 12 hours ...</td>\n",
       "      <td>Birambo market, Gasura market, kirinda market(...</td>\n",
       "      <td>Groupe scholar Gasave( 1,2)</td>\n",
       "      <td>Kirinda Hospital(villages 1,2)</td>\n",
       "      <td>None</td>\n",
       "      <td>Farming</td>\n",
       "      <td>Cassava, maize, beans, sorghum, sweet potatoes</td>\n",
       "      <td>4.0</td>\n",
       "      <td>4.0</td>\n",
       "      <td>Fell down and drowned</td>\n",
       "      <td>The population information of all adjacent com...</td>\n",
       "      <td>Good</td>\n",
       "      <td>Never</td>\n",
       "      <td>Nyanza</td>\n",
       "      <td>Nyamagabe</td>\n",
       "      <td>Standard</td>\n",
       "      <td>No</td>\n",
       "      <td>NaN</td>\n",
       "      <td>Suspended</td>\n",
       "      <td>90.0</td>\n",
       "      <td>1.1</td>\n",
       "      <td>https://www.flickr.com/photos/bridgestoprosper...</td>\n",
       "      <td>006f100000a86FXAAY</td>\n",
       "      <td>Yes</td>\n",
       "    </tr>\n",
       "    <tr>\n",
       "      <th>...</th>\n",
       "      <td>...</td>\n",
       "      <td>...</td>\n",
       "      <td>...</td>\n",
       "      <td>...</td>\n",
       "      <td>...</td>\n",
       "      <td>...</td>\n",
       "      <td>...</td>\n",
       "      <td>...</td>\n",
       "      <td>...</td>\n",
       "      <td>...</td>\n",
       "      <td>...</td>\n",
       "      <td>...</td>\n",
       "      <td>...</td>\n",
       "      <td>...</td>\n",
       "      <td>...</td>\n",
       "      <td>...</td>\n",
       "      <td>...</td>\n",
       "      <td>...</td>\n",
       "      <td>...</td>\n",
       "      <td>...</td>\n",
       "      <td>...</td>\n",
       "      <td>...</td>\n",
       "      <td>...</td>\n",
       "      <td>...</td>\n",
       "      <td>...</td>\n",
       "      <td>...</td>\n",
       "      <td>...</td>\n",
       "      <td>...</td>\n",
       "      <td>...</td>\n",
       "      <td>...</td>\n",
       "      <td>...</td>\n",
       "      <td>...</td>\n",
       "      <td>...</td>\n",
       "      <td>...</td>\n",
       "      <td>...</td>\n",
       "      <td>...</td>\n",
       "      <td>...</td>\n",
       "      <td>...</td>\n",
       "      <td>...</td>\n",
       "      <td>...</td>\n",
       "      <td>...</td>\n",
       "      <td>...</td>\n",
       "      <td>...</td>\n",
       "    </tr>\n",
       "    <tr>\n",
       "      <th>1467</th>\n",
       "      <td>Ngoma</td>\n",
       "      <td>1012951</td>\n",
       "      <td>Rwanda Needs Assessment 2018</td>\n",
       "      <td>Southern Province</td>\n",
       "      <td>Muhanga</td>\n",
       "      <td>Under Construction</td>\n",
       "      <td>-2.049360</td>\n",
       "      <td>29.707098</td>\n",
       "      <td>Suspended Bridge</td>\n",
       "      <td>135.0</td>\n",
       "      <td>3542.0</td>\n",
       "      <td>NaN</td>\n",
       "      <td>Project Assessment - 2018.8.25</td>\n",
       "      <td>edouardumwanzuro taroworks</td>\n",
       "      <td>-2.049360</td>\n",
       "      <td>29.707098</td>\n",
       "      <td>None</td>\n",
       "      <td>No point</td>\n",
       "      <td>35.0</td>\n",
       "      <td>Floods takes 7 hours</td>\n",
       "      <td>Muhanga and Rutaka market</td>\n",
       "      <td>Rutaka ps</td>\n",
       "      <td>Mata health center , gikomero health center</td>\n",
       "      <td>Muhanga district office</td>\n",
       "      <td>Farming</td>\n",
       "      <td>Potatoes , banana</td>\n",
       "      <td>0.0</td>\n",
       "      <td>5.0</td>\n",
       "      <td>No death</td>\n",
       "      <td>Rutaka( Cyurutare village ), Mata health cente...</td>\n",
       "      <td>Fair</td>\n",
       "      <td>Seasonally</td>\n",
       "      <td>Muhanga</td>\n",
       "      <td>Ngororero-Muhanga</td>\n",
       "      <td>Standard</td>\n",
       "      <td>No</td>\n",
       "      <td>NaN</td>\n",
       "      <td>Suspension</td>\n",
       "      <td>60.0</td>\n",
       "      <td>NaN</td>\n",
       "      <td>NaN</td>\n",
       "      <td>006f100000d6wBoAAI</td>\n",
       "      <td>NaN</td>\n",
       "    </tr>\n",
       "    <tr>\n",
       "      <th>1468</th>\n",
       "      <td>Nyabikeri</td>\n",
       "      <td>1014031</td>\n",
       "      <td>Rwanda Needs Assessment 2018</td>\n",
       "      <td>Western Province</td>\n",
       "      <td>Karongi</td>\n",
       "      <td>Under Construction</td>\n",
       "      <td>-2.209275</td>\n",
       "      <td>29.471450</td>\n",
       "      <td>Other</td>\n",
       "      <td>90.0</td>\n",
       "      <td>4001.0</td>\n",
       "      <td>NaN</td>\n",
       "      <td>Project Assessment - 2018.10.28</td>\n",
       "      <td>aimablengirabakunzi taroworks</td>\n",
       "      <td>-2.209007</td>\n",
       "      <td>29.471580</td>\n",
       "      <td>None</td>\n",
       "      <td>Vehicular bridge in 700m away from the propose...</td>\n",
       "      <td>50.0</td>\n",
       "      <td>50times in April, May, October November and De...</td>\n",
       "      <td>Gahororo, Musongati, Kibingo villages don't ha...</td>\n",
       "      <td>Gahororo, Musongati, Kibingo villages don't ha...</td>\n",
       "      <td>Gahororo, Musongati, Kibingo villages don't ha...</td>\n",
       "      <td>Cell office</td>\n",
       "      <td>Farming of sweet potatoes, cassava, beans, maize</td>\n",
       "      <td>Sweet potatoes, beans, maize, cassava</td>\n",
       "      <td>0.0</td>\n",
       "      <td>1.0</td>\n",
       "      <td>He drawn while trying to walk in the river for...</td>\n",
       "      <td>The social survey information were given by th...</td>\n",
       "      <td>Good</td>\n",
       "      <td>Seasonally</td>\n",
       "      <td>Karongi</td>\n",
       "      <td>Karongi-Rusizi</td>\n",
       "      <td>Standard</td>\n",
       "      <td>No</td>\n",
       "      <td>NaN</td>\n",
       "      <td>Suspension</td>\n",
       "      <td>50.8</td>\n",
       "      <td>0.2</td>\n",
       "      <td>https://www.flickr.com/photos/bridgestoprosper...</td>\n",
       "      <td>006f100000d1fMsAAI</td>\n",
       "      <td>NaN</td>\n",
       "    </tr>\n",
       "    <tr>\n",
       "      <th>1469</th>\n",
       "      <td>Mugonero</td>\n",
       "      <td>1014056</td>\n",
       "      <td>Rwanda Needs Assessment 2018</td>\n",
       "      <td>Western Province</td>\n",
       "      <td>Karongi</td>\n",
       "      <td>Under Construction</td>\n",
       "      <td>-2.147630</td>\n",
       "      <td>29.344680</td>\n",
       "      <td>Suspended Bridge</td>\n",
       "      <td>104.0</td>\n",
       "      <td>540.0</td>\n",
       "      <td>NaN</td>\n",
       "      <td>Project Assessment - 2018.10.28</td>\n",
       "      <td>edouardumwanzuro taroworks</td>\n",
       "      <td>-2.147630</td>\n",
       "      <td>29.344680</td>\n",
       "      <td>None</td>\n",
       "      <td>None</td>\n",
       "      <td>280.0</td>\n",
       "      <td>5 days of flood , this kiraro is very dangerous</td>\n",
       "      <td>Rwankuba sector population don't have acess to...</td>\n",
       "      <td>Mubuga sector ,twumba sector ,Gishyita sector ...</td>\n",
       "      <td>Mubuga sector ,twumba sector ,Gishyita sector ...</td>\n",
       "      <td>Mubuga sector ,twumba sector ,Gishyita sector ...</td>\n",
       "      <td>Farming</td>\n",
       "      <td>Banana , beans , maize</td>\n",
       "      <td>20.0</td>\n",
       "      <td>30.0</td>\n",
       "      <td>Many people died across this kiraro river , nu...</td>\n",
       "      <td>Rubumba cell leader provided all info about in...</td>\n",
       "      <td>Good</td>\n",
       "      <td>Never</td>\n",
       "      <td>Karongi</td>\n",
       "      <td>Karongi- Muhanga</td>\n",
       "      <td>Standard</td>\n",
       "      <td>No</td>\n",
       "      <td>NaN</td>\n",
       "      <td>Suspension</td>\n",
       "      <td>80.0</td>\n",
       "      <td>NaN</td>\n",
       "      <td>https://www.flickr.com/photos/bridgestoprosper...</td>\n",
       "      <td>006f100000d1fPrAAI</td>\n",
       "      <td>NaN</td>\n",
       "    </tr>\n",
       "    <tr>\n",
       "      <th>1470</th>\n",
       "      <td>Gasharu</td>\n",
       "      <td>1014069</td>\n",
       "      <td>Rwanda Needs Assessment 2018</td>\n",
       "      <td>Western Province</td>\n",
       "      <td>Karongi</td>\n",
       "      <td>Under Construction</td>\n",
       "      <td>-2.133330</td>\n",
       "      <td>29.362500</td>\n",
       "      <td>Suspended Bridge</td>\n",
       "      <td>46.0</td>\n",
       "      <td>3021.0</td>\n",
       "      <td>NaN</td>\n",
       "      <td>Project Assessment - 2018.10.28</td>\n",
       "      <td>edouardumwanzuro taroworks</td>\n",
       "      <td>-2.133330</td>\n",
       "      <td>29.362500</td>\n",
       "      <td>None , people here are crossing the river by j...</td>\n",
       "      <td>None</td>\n",
       "      <td>270.0</td>\n",
       "      <td>1 day of flood</td>\n",
       "      <td>Wingwa village &amp; Kigogwe village &amp;Karambo vill...</td>\n",
       "      <td>Gasharu village people and some people from Ki...</td>\n",
       "      <td>Wingwa village &amp; Kigogwe village &amp;Karambo vill...</td>\n",
       "      <td>Wingwa village &amp; Kigogwe village &amp;Karambo vill...</td>\n",
       "      <td>Farming</td>\n",
       "      <td>Potatoes, banana</td>\n",
       "      <td>1.0</td>\n",
       "      <td>0.0</td>\n",
       "      <td>A cow died to this river , people get scared o...</td>\n",
       "      <td>Gasharu village provided info about directly i...</td>\n",
       "      <td>Fair</td>\n",
       "      <td>Never</td>\n",
       "      <td>Karongi</td>\n",
       "      <td>Karongi- Muhanga</td>\n",
       "      <td>Standard</td>\n",
       "      <td>No</td>\n",
       "      <td>NaN</td>\n",
       "      <td>Suspended</td>\n",
       "      <td>32.0</td>\n",
       "      <td>NaN</td>\n",
       "      <td>https://www.flickr.com/photos/bridgestoprosper...</td>\n",
       "      <td>006f100000d1fTFAAY</td>\n",
       "      <td>NaN</td>\n",
       "    </tr>\n",
       "    <tr>\n",
       "      <th>1471</th>\n",
       "      <td>Nyakabande-Bitaba</td>\n",
       "      <td>1015561</td>\n",
       "      <td>Rwanda Needs Assessment 2018</td>\n",
       "      <td>Western Province</td>\n",
       "      <td>Karongi</td>\n",
       "      <td>Under Construction</td>\n",
       "      <td>-2.109525</td>\n",
       "      <td>29.314058</td>\n",
       "      <td>Other</td>\n",
       "      <td>97.0</td>\n",
       "      <td>1945.0</td>\n",
       "      <td>Was a duplicate site (specifically, an alterna...</td>\n",
       "      <td>Project Assessment - 2018.10.14</td>\n",
       "      <td>edouardumwanzuro taroworks</td>\n",
       "      <td>-2.117130</td>\n",
       "      <td>29.316720</td>\n",
       "      <td>None , people jump on stones to cross</td>\n",
       "      <td>No point</td>\n",
       "      <td>240.0</td>\n",
       "      <td>4 hours of flood</td>\n",
       "      <td>Nyakabande village , kigabiro village , and Ny...</td>\n",
       "      <td>Nyakabande village , kigabiro village , and Ny...</td>\n",
       "      <td>Nyakabande village , kigabiro village , and Ny...</td>\n",
       "      <td>Nyakabande village , kigabiro village , and Ny...</td>\n",
       "      <td>Farming</td>\n",
       "      <td>Banana , potatoes , Cassava</td>\n",
       "      <td>6.0</td>\n",
       "      <td>3.0</td>\n",
       "      <td>3 injuries , some people who were crossing , a...</td>\n",
       "      <td>Nyakabande village leader gave info about dire...</td>\n",
       "      <td>Good</td>\n",
       "      <td>Never</td>\n",
       "      <td>Karongi</td>\n",
       "      <td>Karongi - Rusizi</td>\n",
       "      <td>Standard</td>\n",
       "      <td>No</td>\n",
       "      <td>NaN</td>\n",
       "      <td>Suspended</td>\n",
       "      <td>30.0</td>\n",
       "      <td>NaN</td>\n",
       "      <td>https://www.flickr.com/photos/bridgestoprosper...</td>\n",
       "      <td>006f100000fHAHXAA4</td>\n",
       "      <td>NaN</td>\n",
       "    </tr>\n",
       "  </tbody>\n",
       "</table>\n",
       "<p>1472 rows × 43 columns</p>\n",
       "</div>"
      ],
      "text/plain": [
       "              Bridge Name Bridge Opportunity: Project Code  \\\n",
       "0                 Bukinga                          1009317   \n",
       "1                Kagarama                          1007325   \n",
       "2                 Karambi                          1007374   \n",
       "3                  Rugeti                          1007466   \n",
       "4     Nyakabuye - Nkomane                          1007495   \n",
       "...                   ...                              ...   \n",
       "1467                Ngoma                          1012951   \n",
       "1468            Nyabikeri                          1014031   \n",
       "1469             Mugonero                          1014056   \n",
       "1470              Gasharu                          1014069   \n",
       "1471    Nyakabande-Bitaba                          1015561   \n",
       "\n",
       "     Bridge Opportunity: Needs Assessment  \\\n",
       "0            Rwanda Needs Assessment 2018   \n",
       "1                                     NaN   \n",
       "2                                     NaN   \n",
       "3            Rwanda Needs Assessment 2018   \n",
       "4            Rwanda Needs Assessment 2018   \n",
       "...                                   ...   \n",
       "1467         Rwanda Needs Assessment 2018   \n",
       "1468         Rwanda Needs Assessment 2018   \n",
       "1469         Rwanda Needs Assessment 2018   \n",
       "1470         Rwanda Needs Assessment 2018   \n",
       "1471         Rwanda Needs Assessment 2018   \n",
       "\n",
       "     Bridge Opportunity: Level 1 Government  \\\n",
       "0                         Southern Province   \n",
       "1                          Western Province   \n",
       "2                         Southern Province   \n",
       "3                         Southern Province   \n",
       "4                         Southern Province   \n",
       "...                                     ...   \n",
       "1467                      Southern Province   \n",
       "1468                       Western Province   \n",
       "1469                       Western Province   \n",
       "1470                       Western Province   \n",
       "1471                       Western Province   \n",
       "\n",
       "     Bridge Opportunity: Level 2 Government Bridge Opportunity: Stage  \\\n",
       "0                                 Nyaruguru                 Cancelled   \n",
       "1                                Nyamasheke                  Complete   \n",
       "2                                      Huye                  Complete   \n",
       "3                                 Nyamagabe                  Complete   \n",
       "4                                 Nyamagabe                  Complete   \n",
       "...                                     ...                       ...   \n",
       "1467                                Muhanga        Under Construction   \n",
       "1468                                Karongi        Under Construction   \n",
       "1469                                Karongi        Under Construction   \n",
       "1470                                Karongi        Under Construction   \n",
       "1471                                Karongi        Under Construction   \n",
       "\n",
       "      Bridge Opportunity: GPS (Latitude)  Bridge Opportunity: GPS (Longitude)  \\\n",
       "0                              -2.760833                            29.488056   \n",
       "1                              -2.322534                            29.141944   \n",
       "2                              -2.513333                            29.612778   \n",
       "3                              -2.476407                            29.420800   \n",
       "4                              -2.233022                            29.575130   \n",
       "...                                  ...                                  ...   \n",
       "1467                           -2.049360                            29.707098   \n",
       "1468                           -2.209275                            29.471450   \n",
       "1469                           -2.147630                            29.344680   \n",
       "1470                           -2.133330                            29.362500   \n",
       "1471                           -2.109525                            29.314058   \n",
       "\n",
       "     Bridge Opportunity: Bridge Type  Bridge Opportunity: Span (m)  \\\n",
       "0                   Suspended Bridge                           NaN   \n",
       "1                  Suspension Bridge                          48.0   \n",
       "2                  Suspension Bridge                          50.0   \n",
       "3                  Suspension Bridge                          68.0   \n",
       "4                  Suspension Bridge                          78.0   \n",
       "...                              ...                           ...   \n",
       "1467                Suspended Bridge                         135.0   \n",
       "1468                           Other                          90.0   \n",
       "1469                Suspended Bridge                         104.0   \n",
       "1470                Suspended Bridge                          46.0   \n",
       "1471                           Other                          97.0   \n",
       "\n",
       "      Bridge Opportunity: Individuals Directly Served  \\\n",
       "0                                                 NaN   \n",
       "1                                              4000.0   \n",
       "2                                             12500.0   \n",
       "3                                              4363.0   \n",
       "4                                              2790.0   \n",
       "...                                               ...   \n",
       "1467                                           3542.0   \n",
       "1468                                           4001.0   \n",
       "1469                                            540.0   \n",
       "1470                                           3021.0   \n",
       "1471                                           1945.0   \n",
       "\n",
       "                           Bridge Opportunity: Comments  \\\n",
       "0                 Steep slopes to deal with for anchors   \n",
       "1                                                   NaN   \n",
       "2     Likely piloting steel decking on this bridge. ...   \n",
       "3     3000-6000 people directly served, Elevation:21...   \n",
       "4     Not Duplicate 500-1000 people directly served,...   \n",
       "...                                                 ...   \n",
       "1467                                                NaN   \n",
       "1468                                                NaN   \n",
       "1469                                                NaN   \n",
       "1470                                                NaN   \n",
       "1471  Was a duplicate site (specifically, an alterna...   \n",
       "\n",
       "                      Form: Form Name               Form: Created By  \\\n",
       "0     Project Assessment - 2018.10.10  aimablengirabakunzi taroworks   \n",
       "1      Project Assessment - 2017.7.12                  Stephanie May   \n",
       "2      Project Assessment - 2018.7.27     etiennemutebutsi taroworks   \n",
       "3       Project Assessment - 2018.9.1  aimablengirabakunzi taroworks   \n",
       "4       Project Assessment - 2018.9.4    dominiquehabimana taroworks   \n",
       "...                               ...                            ...   \n",
       "1467   Project Assessment - 2018.8.25     edouardumwanzuro taroworks   \n",
       "1468  Project Assessment - 2018.10.28  aimablengirabakunzi taroworks   \n",
       "1469  Project Assessment - 2018.10.28     edouardumwanzuro taroworks   \n",
       "1470  Project Assessment - 2018.10.28     edouardumwanzuro taroworks   \n",
       "1471  Project Assessment - 2018.10.14     edouardumwanzuro taroworks   \n",
       "\n",
       "      Proposed Bridge Location (GPS) (Latitude)  \\\n",
       "0                                     -2.760833   \n",
       "1                                     -2.322534   \n",
       "2                                           NaN   \n",
       "3                                     -2.476407   \n",
       "4                                     -2.233574   \n",
       "...                                         ...   \n",
       "1467                                  -2.049360   \n",
       "1468                                  -2.209007   \n",
       "1469                                  -2.147630   \n",
       "1470                                  -2.133330   \n",
       "1471                                  -2.117130   \n",
       "\n",
       "      Proposed Bridge Location (GPS) (Longitude)  \\\n",
       "0                                      29.488056   \n",
       "1                                      29.141944   \n",
       "2                                            NaN   \n",
       "3                                      29.420800   \n",
       "4                                      29.575366   \n",
       "...                                          ...   \n",
       "1467                                   29.707098   \n",
       "1468                                   29.471580   \n",
       "1469                                   29.344680   \n",
       "1470                                   29.362500   \n",
       "1471                                   29.316720   \n",
       "\n",
       "                                Current crossing method  \\\n",
       "0                                                   NaN   \n",
       "1                                         timber bridge   \n",
       "2                                         Timber bridge   \n",
       "3                                                Timber   \n",
       "4                                         Timber bridge   \n",
       "...                                                 ...   \n",
       "1467                                               None   \n",
       "1468                                               None   \n",
       "1469                                               None   \n",
       "1470  None , people here are crossing the river by j...   \n",
       "1471              None , people jump on stones to cross   \n",
       "\n",
       "                     Nearest all-weather crossing point  \\\n",
       "0                                                   NaN   \n",
       "1                                        2km downstream   \n",
       "2     Is located at 5km upstream. People pay 1000rwf...   \n",
       "3                                                  None   \n",
       "4                        Vehicular bridge, 5 kilometers   \n",
       "...                                                 ...   \n",
       "1467                                           No point   \n",
       "1468  Vehicular bridge in 700m away from the propose...   \n",
       "1469                                               None   \n",
       "1470                                               None   \n",
       "1471                                           No point   \n",
       "\n",
       "      Days per year river is flooded  \\\n",
       "0                                NaN   \n",
       "1                              120.0   \n",
       "2                               60.0   \n",
       "3                               60.0   \n",
       "4                               35.0   \n",
       "...                              ...   \n",
       "1467                            35.0   \n",
       "1468                            50.0   \n",
       "1469                           280.0   \n",
       "1470                           270.0   \n",
       "1471                           240.0   \n",
       "\n",
       "                     Flood duration during rainy season  \\\n",
       "0                                                   NaN   \n",
       "1                                               12hours   \n",
       "2                                                  1day   \n",
       "3     All time in April and May and it is rarely to ...   \n",
       "4     April To May, September to December, 12 hours ...   \n",
       "...                                                 ...   \n",
       "1467                               Floods takes 7 hours   \n",
       "1468  50times in April, May, October November and De...   \n",
       "1469    5 days of flood , this kiraro is very dangerous   \n",
       "1470                                     1 day of flood   \n",
       "1471                                   4 hours of flood   \n",
       "\n",
       "                         Market access blocked by river  \\\n",
       "0                                                   NaN   \n",
       "1     Schools, hospital, markets and government serv...   \n",
       "2        Markets,farms blocked by this river both sides   \n",
       "3                                               Markets   \n",
       "4     Birambo market, Gasura market, kirinda market(...   \n",
       "...                                                 ...   \n",
       "1467                          Muhanga and Rutaka market   \n",
       "1468  Gahororo, Musongati, Kibingo villages don't ha...   \n",
       "1469  Rwankuba sector population don't have acess to...   \n",
       "1470  Wingwa village & Kigogwe village &Karambo vill...   \n",
       "1471  Nyakabande village , kigabiro village , and Ny...   \n",
       "\n",
       "                      Education access blocked by river  \\\n",
       "0                                                   NaN   \n",
       "1                                                   NaN   \n",
       "2            Education blocked by this river both sides   \n",
       "3                         Primary and Secondary schools   \n",
       "4                           Groupe scholar Gasave( 1,2)   \n",
       "...                                                 ...   \n",
       "1467                                          Rutaka ps   \n",
       "1468  Gahororo, Musongati, Kibingo villages don't ha...   \n",
       "1469  Mubuga sector ,twumba sector ,Gishyita sector ...   \n",
       "1470  Gasharu village people and some people from Ki...   \n",
       "1471  Nyakabande village , kigabiro village , and Ny...   \n",
       "\n",
       "                         Health access blocked by river  \\\n",
       "0                                                   NaN   \n",
       "1                                                   NaN   \n",
       "2      Health services blocked by this river both sides   \n",
       "3                                         Health Center   \n",
       "4                        Kirinda Hospital(villages 1,2)   \n",
       "...                                                 ...   \n",
       "1467        Mata health center , gikomero health center   \n",
       "1468  Gahororo, Musongati, Kibingo villages don't ha...   \n",
       "1469  Mubuga sector ,twumba sector ,Gishyita sector ...   \n",
       "1470  Wingwa village & Kigogwe village &Karambo vill...   \n",
       "1471  Nyakabande village , kigabiro village , and Ny...   \n",
       "\n",
       "                          Other access blocked by river  \\\n",
       "0                                                   NaN   \n",
       "1                                                   NaN   \n",
       "2     Potable water, places of worship ,places for r...   \n",
       "3                       Churches and Government offices   \n",
       "4                                                  None   \n",
       "...                                                 ...   \n",
       "1467                            Muhanga district office   \n",
       "1468                                        Cell office   \n",
       "1469  Mubuga sector ,twumba sector ,Gishyita sector ...   \n",
       "1470  Wingwa village & Kigogwe village &Karambo vill...   \n",
       "1471  Nyakabande village , kigabiro village , and Ny...   \n",
       "\n",
       "                                   Primary occupations  \\\n",
       "0                                                  NaN   \n",
       "1                                              farming   \n",
       "2                           Farming and small business   \n",
       "3         Farming of large tea plantation, wheat farms   \n",
       "4                                              Farming   \n",
       "...                                                ...   \n",
       "1467                                           Farming   \n",
       "1468  Farming of sweet potatoes, cassava, beans, maize   \n",
       "1469                                           Farming   \n",
       "1470                                           Farming   \n",
       "1471                                           Farming   \n",
       "\n",
       "                                 Primary crops grown  \\\n",
       "0                                                NaN   \n",
       "1                                             banana   \n",
       "2                            Corns, banana and beans   \n",
       "3         Tea, cow pea, wheat, beans, sweet potatoes   \n",
       "4     Cassava, maize, beans, sorghum, sweet potatoes   \n",
       "...                                              ...   \n",
       "1467                               Potatoes , banana   \n",
       "1468           Sweet potatoes, beans, maize, cassava   \n",
       "1469                          Banana , beans , maize   \n",
       "1470                                Potatoes, banana   \n",
       "1471                     Banana , potatoes , Cassava   \n",
       "\n",
       "      River crossing deaths in last 3 years  \\\n",
       "0                                       NaN   \n",
       "1                                       2.0   \n",
       "2                                       3.0   \n",
       "3                                       0.0   \n",
       "4                                       4.0   \n",
       "...                                     ...   \n",
       "1467                                    0.0   \n",
       "1468                                    0.0   \n",
       "1469                                   20.0   \n",
       "1470                                    1.0   \n",
       "1471                                    6.0   \n",
       "\n",
       "      River crossing injuries in last 3 years  \\\n",
       "0                                         NaN   \n",
       "1                                        15.0   \n",
       "2                                        15.0   \n",
       "3                                         2.0   \n",
       "4                                         4.0   \n",
       "...                                       ...   \n",
       "1467                                      5.0   \n",
       "1468                                      1.0   \n",
       "1469                                     30.0   \n",
       "1470                                      0.0   \n",
       "1471                                      3.0   \n",
       "\n",
       "                                  Incident descriptions  \\\n",
       "0                                                   NaN   \n",
       "1     the injuries and deaths are caused by trying f...   \n",
       "2     Peoples dead when coming from the church, heal...   \n",
       "3      They slipped on trees and fall down in the river   \n",
       "4                                 Fell down and drowned   \n",
       "...                                                 ...   \n",
       "1467                                           No death   \n",
       "1468  He drawn while trying to walk in the river for...   \n",
       "1469  Many people died across this kiraro river , nu...   \n",
       "1470  A cow died to this river , people get scared o...   \n",
       "1471  3 injuries , some people who were crossing , a...   \n",
       "\n",
       "                            Notes on social information Cell service quality  \\\n",
       "0                                                   NaN                  NaN   \n",
       "1     Most of the facilities locate at the left side...                 Fair   \n",
       "2     5 cells (kabuye,gasumba,kanyinya, buremera and...                 Good   \n",
       "3     Market 1( Minaga, Gishwati, Mujerenge, Gikungu...                 Fair   \n",
       "4     The population information of all adjacent com...                 Good   \n",
       "...                                                 ...                  ...   \n",
       "1467  Rutaka( Cyurutare village ), Mata health cente...                 Fair   \n",
       "1468  The social survey information were given by th...                 Good   \n",
       "1469  Rubumba cell leader provided all info about in...                 Good   \n",
       "1470  Gasharu village provided info about directly i...                 Fair   \n",
       "1471  Nyakabande village leader gave info about dire...                 Good   \n",
       "\n",
       "     4WD Accessibility Name of nearest city  \\\n",
       "0                  NaN                 Huye   \n",
       "1           Seasonally      Kibogora-Kabuga   \n",
       "2                Never            Nyamagabe   \n",
       "3           Seasonally                 Huye   \n",
       "4                Never               Nyanza   \n",
       "...                ...                  ...   \n",
       "1467        Seasonally              Muhanga   \n",
       "1468        Seasonally              Karongi   \n",
       "1469             Never              Karongi   \n",
       "1470             Never              Karongi   \n",
       "1471             Never              Karongi   \n",
       "\n",
       "     Name of nearest paved or sealed road Bridge classification  \\\n",
       "0                                     NaN                   NaN   \n",
       "1                      Karongi-Nyamasheke                   NaN   \n",
       "2                          Huye-Nyamagabe              Standard   \n",
       "3                        Nyamagabe-Rusizi              Standard   \n",
       "4                               Nyamagabe              Standard   \n",
       "...                                   ...                   ...   \n",
       "1467                    Ngororero-Muhanga              Standard   \n",
       "1468                       Karongi-Rusizi              Standard   \n",
       "1469                     Karongi- Muhanga              Standard   \n",
       "1470                     Karongi- Muhanga              Standard   \n",
       "1471                     Karongi - Rusizi              Standard   \n",
       "\n",
       "     Flag for Rejection                                   Rejection Reason  \\\n",
       "0                   Yes  There is a planned vehicular road with a vehic...   \n",
       "1                   NaN                                                NaN   \n",
       "2                   NaN                                                NaN   \n",
       "3                    No                                                NaN   \n",
       "4                    No                                                NaN   \n",
       "...                 ...                                                ...   \n",
       "1467                 No                                                NaN   \n",
       "1468                 No                                                NaN   \n",
       "1469                 No                                                NaN   \n",
       "1470                 No                                                NaN   \n",
       "1471                 No                                                NaN   \n",
       "\n",
       "     Bridge Type  Estimated span (m)  Height differential between banks  \\\n",
       "0            NaN                 NaN                                NaN   \n",
       "1            NaN                10.0                                0.7   \n",
       "2     Suspension                45.0                                1.0   \n",
       "3      Suspended                47.4                                1.1   \n",
       "4      Suspended                90.0                                1.1   \n",
       "...          ...                 ...                                ...   \n",
       "1467  Suspension                60.0                                NaN   \n",
       "1468  Suspension                50.8                                0.2   \n",
       "1469  Suspension                80.0                                NaN   \n",
       "1470   Suspended                32.0                                NaN   \n",
       "1471   Suspended                30.0                                NaN   \n",
       "\n",
       "             Bridge Opportunity: General Project Photos  \\\n",
       "0                                                   NaN   \n",
       "1                          https://flic.kr/s/aHskvedfPB   \n",
       "2                          https://flic.kr/s/aHskbMF1Kr   \n",
       "3     https://www.flickr.com/photos/bridgestoprosper...   \n",
       "4     https://www.flickr.com/photos/bridgestoprosper...   \n",
       "...                                                 ...   \n",
       "1467                                                NaN   \n",
       "1468  https://www.flickr.com/photos/bridgestoprosper...   \n",
       "1469  https://www.flickr.com/photos/bridgestoprosper...   \n",
       "1470  https://www.flickr.com/photos/bridgestoprosper...   \n",
       "1471  https://www.flickr.com/photos/bridgestoprosper...   \n",
       "\n",
       "     Bridge Opportunity: CaseSafeID Senior Engineering Review Conducted  \n",
       "0                006f100000asFErAAM                                 Yes  \n",
       "1                006f100000a82QzAAI                                 Yes  \n",
       "2                006f100000a86DaAAI                                 Yes  \n",
       "3                006f100000a86F4AAI                                 Yes  \n",
       "4                006f100000a86FXAAY                                 Yes  \n",
       "...                             ...                                 ...  \n",
       "1467             006f100000d6wBoAAI                                 NaN  \n",
       "1468             006f100000d1fMsAAI                                 NaN  \n",
       "1469             006f100000d1fPrAAI                                 NaN  \n",
       "1470             006f100000d1fTFAAY                                 NaN  \n",
       "1471             006f100000fHAHXAA4                                 NaN  \n",
       "\n",
       "[1472 rows x 43 columns]"
      ]
     },
     "execution_count": 3,
     "metadata": {},
     "output_type": "execute_result"
    }
   ],
   "source": [
    "# Display all columns, without truncation\n",
    "pd.set_option('display.max_columns', None)\n",
    "bridges_df"
   ]
  },
  {
   "cell_type": "markdown",
   "metadata": {},
   "source": [
    "## Test Regex Matches"
   ]
  },
  {
   "cell_type": "code",
   "execution_count": 4,
   "metadata": {},
   "outputs": [
    {
     "data": {
      "text/plain": [
       "NaN                                                                                                                                                                                                                                                                                                                                                                                                                                                                                                                                                                                                                                                                                                                                                                                                                                                                                                                                                                                                                                                                                                                                                                                                                                                                                                                                                                                                                                                                                                                                                                                                                                                                                                                                                                                                                                                                                                                                                                                                                                                                                                                                                                                                                                                                                                                                                                                                     1078\n",
       "Unrejected by BAJ on 10-30-18                                                                                                                                                                                                                                                                                                                                                                                                                                                                                                                                                                                                                                                                                                                                                                                                                                                                                                                                                                                                                                                                                                                                                                                                                                                                                                                                                                                                                                                                                                                                                                                                                                                                                                                                                                                                                                                                                                                                                                                                                                                                                                                                                                                                                                                                                                                                                                             12\n",
       "Not Duplicate                                                                                                                                                                                                                                                                                                                                                                                                                                                                                                                                                                                                                                                                                                                                                                                                                                                                                                                                                                                                                                                                                                                                                                                                                                                                                                                                                                                                                                                                                                                                                                                                                                                                                                                                                                                                                                                                                                                                                                                                                                                                                                                                                                                                                                                                                                                                                                                              8\n",
       "BAJ confirms rejection.                                                                                                                                                                                                                                                                                                                                                                                                                                                                                                                                                                                                                                                                                                                                                                                                                                                                                                                                                                                                                                                                                                                                                                                                                                                                                                                                                                                                                                                                                                                                                                                                                                                                                                                                                                                                                                                                                                                                                                                                                                                                                                                                                                                                                                                                                                                                                                                    2\n",
       "Not duplicate                                                                                                                                                                                                                                                                                                                                                                                                                                                                                                                                                                                                                                                                                                                                                                                                                                                                                                                                                                                                                                                                                                                                                                                                                                                                                                                                                                                                                                                                                                                                                                                                                                                                                                                                                                                                                                                                                                                                                                                                                                                                                                                                                                                                                                                                                                                                                                                              2\n",
       "                                                                                                                                                                                                                                                                                                                                                                                                                                                                                                                                                                                                                                                                                                                                                                                                                                                                                                                                                                                                                                                                                                                                                                                                                                                                                                                                                                                                                                                                                                                                                                                                                                                                                                                                                                                                                                                                                                                                                                                                                                                                                                                                                                                                                                                                                                                                                                                                        ... \n",
       "3000-6000 people directly served, Elevation:1860m, Cell:Mwumba, Injuries/Death--Many peoples injured while crossing the river./ No person died while trying to cross the river. Cross river on a normal day-150-300 people, Nearby city centers--Busengo, Crossing River now-Simple timber bridge / hari uduti, Impossible/Dangerous to cross the river-3-6 months / Hagati y?amezi atatu n?atandatu,Travel to nearest safe bridge/river crossing-1-2 hours / Hagati y?isaha 1 n?amasaha 2,Hours walking to reach the Hospital->6 hours,Hours walking to reach the Health Center-0.5 hours,Hours of walking to reach the market-0.5-1 hours,Hours walking to reach Primary School-0.5 hours,Hours walking to reach Secondary School-0.5 hours,Hours walking to reach the Church-0.5 hours,Land within 50m of river bank-flat (flood plain) / ikibaya,Soil-Silt,Sand-Available / birahaboneka,Gravel-Not available on site, but local government can provide/ Ntibihaboneka ariko inzego z?ubuyobozi zabitanga,Stone-Available / birahaboneka,Timber-Available / birahaboneka,Stone provided by-Cell/ akagari,Sand Provided by-Sector/ umurenge,Gravel provided by-Sector/ umurenge,Timber provided by-Sector/ umurenge,Cement provided by-Can not be provided at the time / Ntaruhare rwamenyekana muri aka kanya.,Reinforcement steel provided by-Can not be provided at the time / Ntaruhare rwamenyekana muri aka kanya.,Land ownership-Government of Rwanda / Guverinoma y? u RwandaPrivate landowner/ Umuturage, Land ownership permission-Yes / Yego, General Comments-The proposed bridge location is near the traditional crossing point at a distance of approximately 8m.-The proposed bridge span is approximately 50m.-The level difference between two banks is 0.01m.-The space for foundation is not sufficient-The free board between the lowest point of the proposed bridge and the highest flood level is not sufficient.-There is no confluence area near the place.-The river bed at the site is not stable, there is a possibility of erosion.-The river bank of the site is not showing any sign of erosion and it is located between two flat areas.-The soil from the site is silt soil for both sides. In Rwanda National Wide Needs Assessment 2018,we find that 60 poeple from Rwamaramagambo Sector and Bugaragara cell use Mugunga bridge daily as Adjacent community.       1\n",
       "3000-6000 people directly served, Elevation:1474m, Cell:Kibingo-Kagarama, Injuries/Death-Many peoples were injured while crossing the river./ 1 person died while trying to cross the river. Cross river on a normal day-150-300 people, Nearby city centers--Mugonero -Mahembe -Gabiro, Crossing River now-Simple timber bridge / hari uduti, Impossible/Dangerous to cross the river-3-6 months / Hagati y?amezi atatu n?atandatu,Travel to nearest safe bridge/river crossing-< 1 hour / Munsi y?isaha imwe,Hours walking to reach the Hospital-0.5-1 hours,Hours walking to reach the Health Center-0.5 hours,Hours of walking to reach the market-0.5 hours,Hours walking to reach Primary School-0.5 hours,Hours walking to reach Secondary School-0.5 hours,Hours walking to reach the Church-0.5 hours,Land within 50m of river bank-flat (flood plain) / ikibaya,Soil-Clay / Ibumba,Sand-Available / birahaboneka,Gravel-Not available on site, but local government can provide/ Ntibihaboneka ariko inzego z?ubuyobozi zabitanga,Stone-Available / birahaboneka,Timber-Available / birahaboneka,Stone provided by-Sector/ umurenge,Sand Provided by-Sector/ umurenge,Gravel provided by-Sector/ umurenge,Timber provided by-Sector/ umurenge,Cement provided by-Can not be provided at the time / Ntaruhare rwamenyekana muri aka kanya.,Reinforcement steel provided by-Can not be provided at the time / Ntaruhare rwamenyekana muri aka kanya.,Land ownership-Private landowner/ Umuturage, Land ownership permission-Yes / Yego, General Comments-The proposed bridge location is near the traditional crossing point at a distance of 4m.-The proposed bridge span is approximately 25m.-The level difference between two banks is approximately 0.05m(almost the same)-The space for foundation is sufficient-The free board between the lowest point of the proposed bridge and the highest flood level is sufficient (>Span/25).-There is no confluence area near the place.-The river bed at this site is unstable, there is a possibility of erosion.-The bank profile of the site is showing a sign of erosion and it is located between two flood areas.-The soil from the site is clay for both sides.                                                                                                                                                                             1\n",
       "1000-3000 people directly served, Elevation:1729m, Cell:Gashiha, Injuries/Death-Many peoples injured while trying to cross the river/ 2 peoples died while trying to cross the river Cross river on a normal day-150-300 people, Nearby city centers--Gataba, Crossing River now-Simple timber bridge / hari uduti, Impossible/Dangerous to cross the river-6-9 months / Hagati y?amezi atandatu n?icyenda,Travel to nearest safe bridge/river crossing-2-3 hours / Hagati yamasaha 2 n?amasaha 3,Hours walking to reach the Hospital->6 hours,Hours walking to reach the Health Center-1-2 hours,Hours of walking to reach the market-0.5-1 hours,Hours walking to reach Primary School-0.5-1 hours,Hours walking to reach Secondary School-0.5-1 hours,Hours walking to reach the Church-0.5-1 hours,Land within 50m of river bank-hilly / umusozi,Soil-hard rock/ Urutare,Sand-Available / birahaboneka,Gravel-Not available on site, but local government can provide/ Ntibihaboneka ariko inzego z?ubuyobozi zabitanga,Stone-Available / birahaboneka,Timber-Available / birahaboneka,Stone provided by-Sector/ umurenge,Sand Provided by-Sector/ umurenge,Gravel provided by-District/ Akarere,Timber provided by-District/ Akarere,Cement provided by-Can not be provided at the time / Ntaruhare rwamenyekana muri aka kanya.,Reinforcement steel provided by-Can not be provided at the time / Ntaruhare rwamenyekana muri aka kanya.,Land ownership-Government of Rwanda / Guverinoma y? u RwandaPrivate landowner/ Umuturage, Land ownership permission-Yes / Yego, General Comments-The proposed bridge location is near the traditional crossing point at a distance of approximately 10m.-The proposed bridge span is approximately 48m.-The level difference between two banks is 0.2m.-The space for foundation is sufficient-The free board between the lowest point of the proposed bridge and the highest flood level is sufficient-There is no confluence area near the place.-The river bed at the site is stable, there is no possibility of erosion.-The river bank of the site is not showing any sign of erosion and it is located between hills.-The soil from the site is silt for one side and hard rock for the other side.                                                                                                                                                   1\n",
       "in Sept/2017 more person injured when trying to cross the river                                                                                                                                                                                                                                                                                                                                                                                                                                                                                                                                                                                                                                                                                                                                                                                                                                                                                                                                                                                                                                                                                                                                                                                                                                                                                                                                                                                                                                                                                                                                                                                                                                                                                                                                                                                                                                                                                                                                                                                                                                                                                                                                                                                                                                                                                                                                            1\n",
       "3000-6000 people directly served, Elevation:1660m, Cell:Kabushinge, Injuries/Death--Many peoples injured while crossing the river./ 1 person died while trying to cross the river. Cross river on a normal day-300-600 people, Nearby city centers--Buseke -Mukungwa, Crossing River now-Nearby bridge / Bakoresha iteme rihegereye, Impossible/Dangerous to cross the river-9-12 months / Hagati y?amezi icyenda na cuminabiri,Travel to nearest safe bridge/river crossing-2-3 hours / Hagati yamasaha 2 n?amasaha 3,Hours walking to reach the Hospital-0.5-1 hours,Hours walking to reach the Health Center-0.5-1 hours,Hours of walking to reach the market-0.5-1 hours,Hours walking to reach Primary School-0.5 hours,Hours walking to reach Secondary School-0.5-1 hours,Hours walking to reach the Church-0.5 hours,Land within 50m of river bank-marsh (papyrus, marsh grasses, etc.) / igishanga,Soil-Silt,Sand-Available / birahaboneka,Gravel-Not available on site, but local government can provide/ Ntibihaboneka ariko inzego z?ubuyobozi zabitanga,Stone-Available / birahaboneka,Timber-Available / birahaboneka,Stone provided by-Cell/ akagari,Sand Provided by-Sector/ umurenge,Gravel provided by-Sector/ umurenge,Timber provided by-Sector/ umurenge,Cement provided by-Can not be provided at the time / Ntaruhare rwamenyekana muri aka kanya.,Reinforcement steel provided by-Can not be provided at the time / Ntaruhare rwamenyekana muri aka kanya.,Land ownership-Government of Rwanda / Guverinoma y? u Rwanda, Land ownership permission-Yes / Yego, General Comments-The proposed bridge location is near the traditional crossing point at a distance of approximately 10m.-The proposed bridge span is approximately 170m.-The level difference between two banks is 0.1m.-The space for foundation is sufficient-The free board between the lowest point of the proposed bridge and the highest flood level is not sufficient.-There is no confluence area near the place.-The river bed at the site is not stable, there is a possibility of erosion.-The river bank of the site is showing a sign of erosion and it is located between two flat areas.-The soil from the site is silt for both sides.                                                                                                                                                              1\n",
       "Name: Bridge Opportunity: Comments, Length: 374, dtype: int64"
      ]
     },
     "execution_count": 4,
     "metadata": {},
     "output_type": "execute_result"
    }
   ],
   "source": [
    "bridges_df['Bridge Opportunity: Comments'].value_counts(dropna=False)"
   ]
  },
  {
   "cell_type": "code",
   "execution_count": 5,
   "metadata": {},
   "outputs": [
    {
     "data": {
      "text/plain": [
       "'Likely piloting steel decking on this bridge. 6000-10000 people directly served, Elevation:1630m, Cell:Karambi-Gasumba, Injuries/Death-many peoples injured while trying to cross the river/ 2 peoples died while trying to cross the river Cross river on a normal day->600 people, Nearby city centers--Karambi -Nyamagabe, Crossing River now-Simple timber bridge / hari uduti, Impossible/Dangerous to cross the river-6-9 months / Hagati y?amezi atandatu n?icyenda,Travel to nearest safe bridge/river crossing->3 hours / Hejuru y?amasaha 3,Hours walking to reach the Hospital-0.5-1 hours,Hours walking to reach the Health Center-0.5 hours,Hours of walking to reach the market-0.5 hours,Hours walking to reach Primary School-0.5 hours,Hours walking to reach Secondary School-0.5 hours,Hours walking to reach the Church-0.5 hours,Land within 50m of river bank-flat (flood plain) / ikibaya,Soil-Silt,Sand-Available / birahaboneka,Gravel-Not available on site, but local government can provide/ Ntibihaboneka ariko inzego z?ubuyobozi zabitanga,Stone-Available / birahaboneka,Timber-Available / birahaboneka,Stone provided by-Sector/ umurenge,Sand Provided by-Sector/ umurenge,Gravel provided by-District/ Akarere,Timber provided by-District/ Akarere,Cement provided by-Can not be provided at the time / Ntaruhare rwamenyekana muri aka kanya.,Reinforcement steel provided by-Can not be provided at the time / Ntaruhare rwamenyekana muri aka kanya.,Land ownership-Private landowner/ Umuturage, Land ownership permission-Yes / Yego, General Comments-The proposed bridge location is near the traditional crossing point at a distance of approximately 10m.-The proposed bridge span is approximately 70m.-The level difference between two banks is 0.06m.-The space for foundation is sufficient-The free board between the lowest point of the proposed bridge and the highest flood level is sufficient-There is no confluence area near the place.-The river bed at the site is stable, there is no possibility of erosion.-The river bank of the site is not showing any sign of erosion and it is located between flat areas.-The soil from the site is silt for both sides.'"
      ]
     },
     "execution_count": 5,
     "metadata": {},
     "output_type": "execute_result"
    }
   ],
   "source": [
    "bridges_df['Bridge Opportunity: Comments'][2]"
   ]
  },
  {
   "cell_type": "code",
   "execution_count": 6,
   "metadata": {},
   "outputs": [
    {
     "data": {
      "text/plain": [
       "'Likely piloting steel decking on this bridge. 6000-10000 people directly served, Elevation:1630m, Cell:Karambi-Gasumba, Injuries/Death-many peoples injured while trying to cross the river/ 2 peoples died while trying to cross the river Cross river on a normal day->600 people, Nearby city centers--Karambi -Nyamagabe, Crossing River now-Simple timber bridge / hari uduti, Impossible/Dangerous to cross the river-6-9 months / Hagati y?amezi atandatu n?icyenda,Travel to nearest safe bridge/river crossing->3 hours / Hejuru y?amasaha 3,Hours walking to reach the Hospital-0.5-1 hours,Hours walking to reach the Health Center-0.5 hours,Hours of walking to reach the market-0.5 hours,Hours walking to reach Primary School-0.5 hours,Hours walking to reach Secondary School-0.5 hours,Hours walking to reach the Church-0.5 hours,Land within 50m of river bank-flat (flood plain) / ikibaya,Soil-Silt,Sand-Available / birahaboneka,Gravel-Not available on site, but local government can provide/ Ntibihaboneka ariko inzego z?ubuyobozi zabitanga,Stone-Available / birahaboneka,Timber-Available / birahaboneka,Stone provided by-Sector/ umurenge,Sand Provided by-Sector/ umurenge,Gravel provided by-District/ Akarere,Timber provided by-District/ Akarere,Cement provided by-Can not be provided at the time / Ntaruhare rwamenyekana muri aka kanya.,Reinforcement steel provided by-Can not be provided at the time / Ntaruhare rwamenyekana muri aka kanya.,Land ownership-Private landowner/ Umuturage, Land ownership permission-Yes / Yego, General Comments-The proposed bridge location is near the traditional crossing point at a distance of approximately 10m.-The proposed bridge span is approximately 70m.-The level difference between two banks is 0.06m.-The space for foundation is sufficient-The free board between the lowest point of the proposed bridge and the highest flood level is sufficient-There is no confluence area near the place.-The river bed at the site is stable, there is no possibility of erosion.-The river bank of the site is not showing any sign of erosion and it is located between flat areas.-The soil from the site is silt for both sides.'"
      ]
     },
     "execution_count": 6,
     "metadata": {},
     "output_type": "execute_result"
    }
   ],
   "source": [
    "# Example of paragraph of data\n",
    "test_string_2 = bridges_df['Bridge Opportunity: Comments'][2]\n",
    "test_string_2"
   ]
  },
  {
   "cell_type": "code",
   "execution_count": 7,
   "metadata": {},
   "outputs": [
    {
     "name": "stdout",
     "output_type": "stream",
     "text": [
      "6000-10000\n"
     ]
    }
   ],
   "source": [
    "# Matches range of people directly served, e.g. 6000-10000\n",
    "# Case insensitive (?i)\n",
    "people_directly_served = re.search(\n",
    "    pattern=r'(?i)([\\d-]+) people directly served', \n",
    "    string=test_string_2\n",
    ")\n",
    "\n",
    "if people_directly_served: print(people_directly_served.group(1))"
   ]
  },
  {
   "cell_type": "code",
   "execution_count": 8,
   "metadata": {},
   "outputs": [
    {
     "name": "stdout",
     "output_type": "stream",
     "text": [
      "1630\n"
     ]
    }
   ],
   "source": [
    "# Matches elevation in meters\n",
    "# Note: Change column name to be Elevation (meters) so each column value can be an integer\n",
    "# Then cast this string as int\n",
    "elevation = re.search(\n",
    "    pattern=r'(?i)Elevation:(\\d+)', \n",
    "    string=test_string_2\n",
    ")\n",
    "\n",
    "if elevation: print(elevation.group(1))"
   ]
  },
  {
   "cell_type": "code",
   "execution_count": 9,
   "metadata": {},
   "outputs": [
    {
     "name": "stdout",
     "output_type": "stream",
     "text": [
      "Karambi-Gasumba\n"
     ]
    }
   ],
   "source": [
    "# Matches the 'cell' of the bridge site, optional space after Cell, optional dash between\n",
    "# word characters\n",
    "cell = re.search(\n",
    "    pattern=r'(?i)Cell: ?(\\w+\\-?\\w*)',\n",
    "    string=test_string_2\n",
    ")\n",
    "\n",
    "if cell: print(cell.group(1))"
   ]
  },
  {
   "cell_type": "code",
   "execution_count": 10,
   "metadata": {},
   "outputs": [],
   "source": [
    "bridge_connection = re.search(\n",
    "    pattern=r'(?i)Bridge(?:[\\s\\w]+)?connect(?:s|ing)? ([\\w\\s\\-&]+)', \n",
    "    string=test_string_2\n",
    ")\n",
    "if bridge_connection: print(bridge_connection.group(1)) # None"
   ]
  },
  {
   "cell_type": "code",
   "execution_count": 11,
   "metadata": {},
   "outputs": [
    {
     "name": "stdout",
     "output_type": "stream",
     "text": [
      "many peoples\n"
     ]
    }
   ],
   "source": [
    "injuries = re.search(\n",
    "    pattern=r'([\\w\\s]+) injur', \n",
    "    string=test_string_2\n",
    ")\n",
    "if injuries: print(injuries.group(1))"
   ]
  },
  {
   "cell_type": "code",
   "execution_count": 12,
   "metadata": {},
   "outputs": [
    {
     "name": "stdout",
     "output_type": "stream",
     "text": [
      " 2 peoples\n"
     ]
    }
   ],
   "source": [
    "deaths = re.search(\n",
    "    pattern=r'([\\w\\s]+) die', \n",
    "    string=test_string_2\n",
    ")\n",
    "if deaths: print(deaths.group(1))"
   ]
  },
  {
   "cell_type": "code",
   "execution_count": 13,
   "metadata": {},
   "outputs": [
    {
     "name": "stdout",
     "output_type": "stream",
     "text": [
      ">600\n"
     ]
    }
   ],
   "source": [
    "crossing_frequency = re.search(\n",
    "    pattern=r'(?i)Cross river on a normal day-?([>\\d-]+)', \n",
    "    string=test_string_2\n",
    ")\n",
    "\n",
    "if crossing_frequency: print(crossing_frequency.group(1))"
   ]
  },
  {
   "cell_type": "code",
   "execution_count": 14,
   "metadata": {},
   "outputs": [
    {
     "name": "stdout",
     "output_type": "stream",
     "text": [
      "Karambi, Nyamagabe\n"
     ]
    }
   ],
   "source": [
    "nearby_city_centers = re.search(\n",
    "    pattern=r'Nearby city centers--?([a-zA-Z -]*)', \n",
    "    string=test_string_2\n",
    ")\n",
    "\n",
    "if nearby_city_centers: print(nearby_city_centers.group(1).replace(' -', ', '))"
   ]
  },
  {
   "cell_type": "code",
   "execution_count": 15,
   "metadata": {},
   "outputs": [
    {
     "name": "stdout",
     "output_type": "stream",
     "text": [
      "Simple timber bridge \n"
     ]
    }
   ],
   "source": [
    "current_crossing_method = re.search(\n",
    "    pattern=r'(?i)Crossing River now-([\\w\\s]+)',\n",
    "    string=test_string_2\n",
    ")\n",
    "if current_crossing_method: print(current_crossing_method.group(1))"
   ]
  },
  {
   "cell_type": "code",
   "execution_count": 16,
   "metadata": {},
   "outputs": [
    {
     "name": "stdout",
     "output_type": "stream",
     "text": [
      "6-9 months \n"
     ]
    }
   ],
   "source": [
    "river_crossing_difficulty = re.search(\n",
    "    pattern=r'(?i)Impossible/Dangerous to cross the river-([\\w\\s\\-?]+)', \n",
    "    string=test_string_2\n",
    ")\n",
    "\n",
    "if river_crossing_difficulty: print(river_crossing_difficulty.group(1))"
   ]
  },
  {
   "cell_type": "code",
   "execution_count": 17,
   "metadata": {},
   "outputs": [
    {
     "name": "stdout",
     "output_type": "stream",
     "text": [
      ">3 hours \n"
     ]
    }
   ],
   "source": [
    "hours_to_nearest_crossing = re.search(\n",
    "    pattern=r'(?i)Travel to nearest safe bridge/river crossing-([>\\w\\s]+)', \n",
    "    string=test_string_2)\n",
    "\n",
    "if hours_to_nearest_crossing: print(hours_to_nearest_crossing.group(1))"
   ]
  },
  {
   "cell_type": "code",
   "execution_count": 18,
   "metadata": {},
   "outputs": [
    {
     "name": "stdout",
     "output_type": "stream",
     "text": [
      "0.5-1\n"
     ]
    }
   ],
   "source": [
    "hours_to_hospital = re.search(\n",
    "    pattern=r'(?i)Hours walking to reach the Hospital-([.\\d-]+)', \n",
    "    string=test_string_2\n",
    ")\n",
    "\n",
    "if hours_to_hospital: print(hours_to_hospital.group(1))"
   ]
  },
  {
   "cell_type": "code",
   "execution_count": 19,
   "metadata": {},
   "outputs": [
    {
     "name": "stdout",
     "output_type": "stream",
     "text": [
      "0.5\n"
     ]
    }
   ],
   "source": [
    "hours_to_health_center = re.search(\n",
    "    pattern=r'(?i)Hours walking to reach the Health Center-([.\\d-]+)', \n",
    "    string=test_string_2\n",
    ")\n",
    "\n",
    "if hours_to_health_center: print(hours_to_health_center.group(1))"
   ]
  },
  {
   "cell_type": "code",
   "execution_count": 20,
   "metadata": {},
   "outputs": [
    {
     "name": "stdout",
     "output_type": "stream",
     "text": [
      "0.5\n"
     ]
    }
   ],
   "source": [
    "# Rename to Hours walking (no of), like the rest of the columns\n",
    "hours_to_market = re.search(\n",
    "    pattern=r'(?i)Hours of walking to reach the market-([.\\d-]+)', \n",
    "    string=test_string_2\n",
    ")\n",
    "\n",
    "if hours_to_market: print(hours_to_market.group(1))"
   ]
  },
  {
   "cell_type": "code",
   "execution_count": 21,
   "metadata": {},
   "outputs": [
    {
     "name": "stdout",
     "output_type": "stream",
     "text": [
      "0.5\n"
     ]
    }
   ],
   "source": [
    "hours_to_primary_school = re.search(\n",
    "    pattern=r'(?i)Hours walking to reach Primary School-([.\\d-]+)', \n",
    "    string=test_string_2\n",
    ")\n",
    "\n",
    "if hours_to_primary_school: print(hours_to_primary_school.group(1))"
   ]
  },
  {
   "cell_type": "code",
   "execution_count": 22,
   "metadata": {},
   "outputs": [
    {
     "name": "stdout",
     "output_type": "stream",
     "text": [
      "0.5\n"
     ]
    }
   ],
   "source": [
    "hours_to_secondary_school = re.search(\n",
    "    pattern=r'(?i)Hours walking to reach Secondary School-([.\\d-]+)', \n",
    "    string=test_string_2)\n",
    "\n",
    "if hours_to_secondary_school: print(hours_to_secondary_school.group(1))"
   ]
  },
  {
   "cell_type": "code",
   "execution_count": 23,
   "metadata": {},
   "outputs": [
    {
     "name": "stdout",
     "output_type": "stream",
     "text": [
      "0.5\n"
     ]
    }
   ],
   "source": [
    "hours_to_church = re.search(\n",
    "    pattern=r'(?i)Hours walking to reach the Church-([.\\d-]+)', \n",
    "    string=test_string_2\n",
    ")\n",
    "\n",
    "if hours_to_church: print(hours_to_church.group(1))"
   ]
  },
  {
   "cell_type": "code",
   "execution_count": 24,
   "metadata": {},
   "outputs": [
    {
     "name": "stdout",
     "output_type": "stream",
     "text": [
      "flat (flood plain) \n"
     ]
    }
   ],
   "source": [
    "land_by_river_bank = re.search(\n",
    "    pattern=r'(?i)Land within 50m of river bank-([\\w\\s()]+)', \n",
    "    string=test_string_2\n",
    ")\n",
    "\n",
    "if land_by_river_bank: print(land_by_river_bank.group(1))"
   ]
  },
  {
   "cell_type": "code",
   "execution_count": 25,
   "metadata": {},
   "outputs": [
    {
     "name": "stdout",
     "output_type": "stream",
     "text": [
      "Silt\n"
     ]
    }
   ],
   "source": [
    "# Sometimes next column is separated with comma\n",
    "soil = re.search(\n",
    "    pattern=r'Soil-([\\w\\s]+),Sand', \n",
    "    string=test_string_2\n",
    ")\n",
    "\n",
    "if soil: print(soil.group(1))"
   ]
  },
  {
   "cell_type": "code",
   "execution_count": 26,
   "metadata": {},
   "outputs": [
    {
     "name": "stdout",
     "output_type": "stream",
     "text": [
      "Available \n"
     ]
    }
   ],
   "source": [
    "sand_availability = re.search(\n",
    "    pattern=r'Sand-([\\w\\s]+)', \n",
    "    string=test_string_2\n",
    ")\n",
    "\n",
    "if sand_availability: print(sand_availability.group(1))"
   ]
  },
  {
   "cell_type": "code",
   "execution_count": 27,
   "metadata": {},
   "outputs": [
    {
     "name": "stdout",
     "output_type": "stream",
     "text": [
      "Not available on site, but local government can provide\n"
     ]
    }
   ],
   "source": [
    "gravel_availability = re.search(\n",
    "    pattern=r'Gravel-([\\w\\s,]+)', \n",
    "    string=test_string_2\n",
    ")\n",
    "\n",
    "if gravel_availability: print(gravel_availability.group(1))"
   ]
  },
  {
   "cell_type": "code",
   "execution_count": 28,
   "metadata": {},
   "outputs": [
    {
     "name": "stdout",
     "output_type": "stream",
     "text": [
      "Available \n"
     ]
    }
   ],
   "source": [
    "stone_availability = re.search(\n",
    "    pattern=r'Stone-([\\w\\s,]+) ?/', \n",
    "    string=test_string_2\n",
    ")\n",
    "\n",
    "if stone_availability: print(stone_availability.group(1))"
   ]
  },
  {
   "cell_type": "code",
   "execution_count": 29,
   "metadata": {},
   "outputs": [
    {
     "name": "stdout",
     "output_type": "stream",
     "text": [
      "Available \n"
     ]
    }
   ],
   "source": [
    "timber_availability = re.search(\n",
    "    pattern=r'Timber-([\\w\\s,]+)', \n",
    "    string=test_string_2\n",
    ")\n",
    "\n",
    "if timber_availability: print(timber_availability.group(1))"
   ]
  },
  {
   "cell_type": "code",
   "execution_count": 30,
   "metadata": {},
   "outputs": [
    {
     "name": "stdout",
     "output_type": "stream",
     "text": [
      "Sector\n"
     ]
    }
   ],
   "source": [
    "stone_provided_by = re.search(\n",
    "    pattern=r'Stone provided by-([\\w\\s,]+)', \n",
    "    string=test_string_2\n",
    ")\n",
    "\n",
    "if stone_provided_by: print(stone_provided_by.group(1))"
   ]
  },
  {
   "cell_type": "code",
   "execution_count": 31,
   "metadata": {},
   "outputs": [
    {
     "name": "stdout",
     "output_type": "stream",
     "text": [
      "Sector\n"
     ]
    }
   ],
   "source": [
    "sand_provided_by = re.search(\n",
    "    pattern=r'Sand Provided by-([\\w\\s,]+)', \n",
    "    string=test_string_2\n",
    ")\n",
    "\n",
    "if sand_provided_by: print(sand_provided_by.group(1))"
   ]
  },
  {
   "cell_type": "code",
   "execution_count": 32,
   "metadata": {},
   "outputs": [
    {
     "name": "stdout",
     "output_type": "stream",
     "text": [
      "District\n"
     ]
    }
   ],
   "source": [
    "gravel_provided_by = re.search(\n",
    "    pattern=r'Gravel provided by-([\\w\\s,]+)', \n",
    "    string=test_string_2\n",
    ")\n",
    "\n",
    "if gravel_provided_by: print(gravel_provided_by.group(1))"
   ]
  },
  {
   "cell_type": "code",
   "execution_count": 33,
   "metadata": {},
   "outputs": [
    {
     "name": "stdout",
     "output_type": "stream",
     "text": [
      "District\n"
     ]
    }
   ],
   "source": [
    "timber_provided_by = re.search(\n",
    "    pattern=r'Timber provided by-([\\w\\s,]+)', \n",
    "    string=test_string_2\n",
    ")\n",
    "\n",
    "if timber_provided_by: print(timber_provided_by.group(1))"
   ]
  },
  {
   "cell_type": "code",
   "execution_count": 34,
   "metadata": {},
   "outputs": [
    {
     "name": "stdout",
     "output_type": "stream",
     "text": [
      "Can not be provided at the time \n"
     ]
    }
   ],
   "source": [
    "cement_provided_by = re.search(\n",
    "    pattern=r'Cement provided by-([\\w\\s,]+)', \n",
    "    string=test_string_2\n",
    ")\n",
    "\n",
    "if cement_provided_by: print(cement_provided_by.group(1))"
   ]
  },
  {
   "cell_type": "code",
   "execution_count": 35,
   "metadata": {},
   "outputs": [
    {
     "name": "stdout",
     "output_type": "stream",
     "text": [
      "Can not be provided at the time \n"
     ]
    }
   ],
   "source": [
    "reinforcement_steel_provided_by = re.search(\n",
    "    pattern=r'Reinforcement steel provided by-([\\w\\s,]+)', \n",
    "    string=test_string_2\n",
    ")\n",
    "\n",
    "if reinforcement_steel_provided_by: print(reinforcement_steel_provided_by.group(1))"
   ]
  },
  {
   "cell_type": "code",
   "execution_count": 36,
   "metadata": {},
   "outputs": [
    {
     "name": "stdout",
     "output_type": "stream",
     "text": [
      "Private landowner\n"
     ]
    }
   ],
   "source": [
    "land_ownership = re.search(\n",
    "    pattern=r'Land ownership-([\\w\\s,]+)', \n",
    "    string=test_string_2\n",
    ")\n",
    "\n",
    "if land_ownership: print(land_ownership.group(1))"
   ]
  },
  {
   "cell_type": "code",
   "execution_count": 37,
   "metadata": {},
   "outputs": [
    {
     "name": "stdout",
     "output_type": "stream",
     "text": [
      "Yes \n"
     ]
    }
   ],
   "source": [
    "land_ownership_permission = re.search(\n",
    "    pattern=r'Land ownership permission-([\\w\\s,]+)', \n",
    "    string=test_string_2\n",
    ")\n",
    "\n",
    "if land_ownership_permission: print(land_ownership_permission.group(1))"
   ]
  },
  {
   "cell_type": "code",
   "execution_count": 38,
   "metadata": {},
   "outputs": [
    {
     "name": "stdout",
     "output_type": "stream",
     "text": [
      "near the traditional crossing point at a distance of approximately 10m\n"
     ]
    }
   ],
   "source": [
    "proposed_bridge_location = re.search(\n",
    "    pattern=r'proposed bridge location is ([\\w\\s,]+).?-', \n",
    "    string=test_string_2\n",
    ")\n",
    "if proposed_bridge_location: print(proposed_bridge_location.group(1))"
   ]
  },
  {
   "cell_type": "code",
   "execution_count": 39,
   "metadata": {},
   "outputs": [
    {
     "name": "stdout",
     "output_type": "stream",
     "text": [
      "70\n"
     ]
    }
   ],
   "source": [
    "# Strip m from values, put m in column name\n",
    "proposed_bridge_span = re.search(\n",
    "    pattern=r'proposed bridge span is (?:approximately )?(\\d+)\\w*.?-', \n",
    "    string=test_string_2\n",
    ")\n",
    "\n",
    "if proposed_bridge_span: print(proposed_bridge_span.group(1))"
   ]
  },
  {
   "cell_type": "code",
   "execution_count": 40,
   "metadata": {},
   "outputs": [
    {
     "name": "stdout",
     "output_type": "stream",
     "text": [
      "0.06\n"
     ]
    }
   ],
   "source": [
    "# Also in meters\n",
    "level_difference_between_two_banks = re.search(\n",
    "    pattern=r'level difference between two banks is ([\\d.]+)', \n",
    "    string=test_string_2\n",
    ")\n",
    "\n",
    "if level_difference_between_two_banks: print(level_difference_between_two_banks.group(1))"
   ]
  },
  {
   "cell_type": "code",
   "execution_count": 41,
   "metadata": {},
   "outputs": [
    {
     "name": "stdout",
     "output_type": "stream",
     "text": [
      "sufficient\n"
     ]
    }
   ],
   "source": [
    "space_for_foundation = re.search(\n",
    "    pattern=r'space for foundation is (\\w+\\s*)', \n",
    "    string=test_string_2\n",
    ")\n",
    "if space_for_foundation: print(space_for_foundation.group(1))"
   ]
  },
  {
   "cell_type": "code",
   "execution_count": 42,
   "metadata": {},
   "outputs": [
    {
     "name": "stdout",
     "output_type": "stream",
     "text": [
      "sufficient\n"
     ]
    }
   ],
   "source": [
    "free_board = re.search(\n",
    "    pattern=r'free board between the lowest point of the proposed bridge and the highest flood level(?: is)? (\\w+\\s*)',\n",
    "    string=test_string_2\n",
    ")\n",
    "if free_board: print(free_board.group(1))"
   ]
  },
  {
   "cell_type": "code",
   "execution_count": 43,
   "metadata": {},
   "outputs": [
    {
     "name": "stdout",
     "output_type": "stream",
     "text": [
      "stable, there is no possibility of erosion\n"
     ]
    }
   ],
   "source": [
    "river_bed_status = re.search(\n",
    "    pattern=r'river bed at the site is ([\\w\\s,]+)', \n",
    "    string=test_string_2\n",
    ")\n",
    "if river_bed_status: print(river_bed_status.group(1))"
   ]
  },
  {
   "cell_type": "code",
   "execution_count": 44,
   "metadata": {},
   "outputs": [
    {
     "name": "stdout",
     "output_type": "stream",
     "text": [
      "not showing any sign of erosion and it is located between flat areas\n"
     ]
    }
   ],
   "source": [
    "river_bank_status = re.search(\n",
    "    r'river bank of the site is ([\\w\\s,]+)', \n",
    "    string=test_string_2\n",
    ")\n",
    "if river_bank_status: print(river_bank_status.group(1))"
   ]
  },
  {
   "cell_type": "code",
   "execution_count": 45,
   "metadata": {},
   "outputs": [
    {
     "name": "stdout",
     "output_type": "stream",
     "text": [
      "silt for both sides\n"
     ]
    }
   ],
   "source": [
    "soil_from_site = re.search(\n",
    "    pattern=r'soil from the site is ([\\w\\s]+)', \n",
    "    string=test_string_2\n",
    ")\n",
    "\n",
    "if soil_from_site: print(soil_from_site.group(1))"
   ]
  },
  {
   "cell_type": "code",
   "execution_count": 46,
   "metadata": {},
   "outputs": [
    {
     "name": "stdout",
     "output_type": "stream",
     "text": [
      "There is no confluence area near the place\n"
     ]
    }
   ],
   "source": [
    "confluence_area_near_place = re.search(\n",
    "    r'([\\w\\s]+\\bconfluence\\b[\\w\\s]+)', \n",
    "    string=test_string_2\n",
    ")\n",
    "\n",
    "if confluence_area_near_place: print(confluence_area_near_place.group(1))"
   ]
  },
  {
   "cell_type": "markdown",
   "metadata": {},
   "source": [
    "## Editing Features\n",
    "Now that we've found regular expressions to match data in the comments column, we will add them to the dataset by either engineering new features or editing existing ones. Since the comments data is from 2013 while the other column data is from 2018, if data already exists in a separate column, we will keep it. We will only add old data to an existing column if that column's row is null."
   ]
  },
  {
   "cell_type": "markdown",
   "metadata": {},
   "source": [
    "### Columns in comments data that correspond to existing columns\n",
    "1. `People directly served` (corresponds to `Bridge Opportunity: Individuals Directly Served`)\n",
    "2. `Injuries` (roughly corresponds to `River crossing injuries in last 3 years`)\n",
    "3. `Deaths` (roughly corresponds to `River crossing deaths in last 3 years`)\n",
    "4. `Nearby city centers` (corresponds to `Name of nearest city`)\n",
    "5. `Crossing River now` (corresponds to `Current crossing method`)"
   ]
  },
  {
   "cell_type": "markdown",
   "metadata": {},
   "source": [
    "First, we'll map extracted data to their corresponding 5 existing columns wherever the values in those columns are null."
   ]
  },
  {
   "cell_type": "code",
   "execution_count": 47,
   "metadata": {},
   "outputs": [],
   "source": [
    "comments = bridges_df['Bridge Opportunity: Comments']\n",
    "extracted = bridges_df.copy()\n",
    "\n",
    "# Boolean array used to check whether there is data to extract\n",
    "non_nan_comments = bridges_df['Bridge Opportunity: Comments'].notna()\n",
    "\n",
    "# Boolean arrays used to check if values in existing columns are null (in which case\n",
    "# they will be changed, else they will be left the same)\n",
    "individuals_served_nans = bridges_df['Bridge Opportunity: Individuals Directly Served'].notna()\n",
    "injuries_nans = bridges_df['River crossing injuries in last 3 years'].notna()\n",
    "deaths_nans = bridges_df['River crossing deaths in last 3 years'].notna()\n",
    "nearest_city_nans = bridges_df['Name of nearest city'].notna()\n",
    "river_crossing_nans = bridges_df['Current crossing method'].notna()"
   ]
  },
  {
   "cell_type": "code",
   "execution_count": 48,
   "metadata": {},
   "outputs": [
    {
     "name": "stderr",
     "output_type": "stream",
     "text": [
      "/Users/RyanKoul/.local/share/virtualenvs/labs1-W26pRego/lib/python3.7/site-packages/ipykernel_launcher.py:12: SettingWithCopyWarning: \n",
      "A value is trying to be set on a copy of a slice from a DataFrame\n",
      "\n",
      "See the caveats in the documentation: https://pandas.pydata.org/pandas-docs/stable/user_guide/indexing.html#returning-a-view-versus-a-copy\n",
      "  if sys.path[0] == '':\n",
      "/Users/RyanKoul/.local/share/virtualenvs/labs1-W26pRego/lib/python3.7/site-packages/ipykernel_launcher.py:17: SettingWithCopyWarning: \n",
      "A value is trying to be set on a copy of a slice from a DataFrame\n",
      "\n",
      "See the caveats in the documentation: https://pandas.pydata.org/pandas-docs/stable/user_guide/indexing.html#returning-a-view-versus-a-copy\n",
      "/Users/RyanKoul/.local/share/virtualenvs/labs1-W26pRego/lib/python3.7/site-packages/pandas/core/indexing.py:670: SettingWithCopyWarning: \n",
      "A value is trying to be set on a copy of a slice from a DataFrame\n",
      "\n",
      "See the caveats in the documentation: https://pandas.pydata.org/pandas-docs/stable/user_guide/indexing.html#returning-a-view-versus-a-copy\n",
      "  iloc._setitem_with_indexer(indexer, value)\n",
      "/Users/RyanKoul/.local/share/virtualenvs/labs1-W26pRego/lib/python3.7/site-packages/ipykernel_launcher.py:22: SettingWithCopyWarning: \n",
      "A value is trying to be set on a copy of a slice from a DataFrame\n",
      "\n",
      "See the caveats in the documentation: https://pandas.pydata.org/pandas-docs/stable/user_guide/indexing.html#returning-a-view-versus-a-copy\n",
      "/Users/RyanKoul/.local/share/virtualenvs/labs1-W26pRego/lib/python3.7/site-packages/ipykernel_launcher.py:29: SettingWithCopyWarning: \n",
      "A value is trying to be set on a copy of a slice from a DataFrame\n",
      "\n",
      "See the caveats in the documentation: https://pandas.pydata.org/pandas-docs/stable/user_guide/indexing.html#returning-a-view-versus-a-copy\n",
      "/Users/RyanKoul/.local/share/virtualenvs/labs1-W26pRego/lib/python3.7/site-packages/ipykernel_launcher.py:36: SettingWithCopyWarning: \n",
      "A value is trying to be set on a copy of a slice from a DataFrame\n",
      "\n",
      "See the caveats in the documentation: https://pandas.pydata.org/pandas-docs/stable/user_guide/indexing.html#returning-a-view-versus-a-copy\n"
     ]
    }
   ],
   "source": [
    "comment_count = 0\n",
    "for i in range(len(bridges_df)):\n",
    "    if non_nan_comments[i]:\n",
    "        if individuals_served_nans[i]:\n",
    "            people_directly_served = re.search(\n",
    "                pattern=r'(?i)([\\d-]+) people directly served', \n",
    "                string=comments[i])\n",
    "            if people_directly_served:\n",
    "                # This is a range separated by -. Take its midpoint.\n",
    "                nums = [int(num) for num in people_directly_served.group(1).split('-')]\n",
    "                avg = sum(nums) / len(nums)\n",
    "                extracted['Bridge Opportunity: Individuals Directly Served'][i] = avg\n",
    "\n",
    "        if injuries_nans[i]:\n",
    "            injuries = re.search(pattern=r'([\\w\\s]+) injur', string=comments[i])\n",
    "            if injuries:\n",
    "                extracted['River crossing injuries in last 3 years'][i] = injuries.group(1)\n",
    "            \n",
    "        if deaths_nans[i]:\n",
    "            deaths = re.search(pattern=r'([\\w\\s]+) die', string=comments[i])\n",
    "            if deaths:\n",
    "                extracted['River crossing deaths in last 3 years'][i] = deaths.group(1)\n",
    "        \n",
    "        if nearest_city_nans[i]:\n",
    "            nearest_city = re.search(\n",
    "                pattern=r'Nearby city centers--?([a-zA-Z -]*)', \n",
    "                string=comments[i])\n",
    "            if nearest_city:\n",
    "                extracted['Name of nearest city'][i] = nearest_city.group(1).replace(' -', ', ')\n",
    "        \n",
    "        if river_crossing_nans[i]:\n",
    "            river_crossing = re.search(\n",
    "                pattern=r'(?i)Crossing River now-([\\w\\s]+)',\n",
    "                string=comments[i])\n",
    "            if river_crossing:\n",
    "                extracted['Current crossing method'][i] = river_crossing.group(1)\n",
    "        comment_count += 1"
   ]
  },
  {
   "cell_type": "code",
   "execution_count": 49,
   "metadata": {},
   "outputs": [],
   "source": [
    "assert comment_count == sum(bridges_df['Bridge Opportunity: Comments'].notna())"
   ]
  },
  {
   "cell_type": "code",
   "execution_count": null,
   "metadata": {},
   "outputs": [],
   "source": [
    "df.to_csv('b2p_cleaned.csv')\n",
    "from google.colab import files\n",
    "files.download('b2p_cleaned.csv')"
   ]
  },
  {
   "cell_type": "markdown",
   "metadata": {},
   "source": [
    "## Engineering Features\n",
    "Now, we'll make new columns for the rest of the values extracted from the comments column."
   ]
  },
  {
   "cell_type": "code",
   "execution_count": null,
   "metadata": {},
   "outputs": [],
   "source": [
    "new_columns = ['Elevation', 'Cell', 'Average Number of Daily Crossings', \n",
    "              'How long is it impossible/dangerous to cross river',\n",
    "              'Hours to nearest safe bridge/river crossing', 'Hours walking to Hospital',\n",
    "              'Hours walking to Health Center', 'Hours walking to market',\n",
    "              'Hours walking to Primary School']"
   ]
  }
 ],
 "metadata": {
  "kernelspec": {
   "display_name": "Python 3",
   "language": "python",
   "name": "python3"
  },
  "language_info": {
   "codemirror_mode": {
    "name": "ipython",
    "version": 3
   },
   "file_extension": ".py",
   "mimetype": "text/x-python",
   "name": "python",
   "nbconvert_exporter": "python",
   "pygments_lexer": "ipython3",
   "version": "3.7.3"
  }
 },
 "nbformat": 4,
 "nbformat_minor": 4
}
